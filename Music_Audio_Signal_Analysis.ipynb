{
  "nbformat": 4,
  "nbformat_minor": 0,
  "metadata": {
    "colab": {
      "provenance": [],
      "mount_file_id": "15OBY0Db8eP37JrJS0U_L3FxCBvl5E_Qp",
      "authorship_tag": "ABX9TyPueCNHHMTkeweiDNHOTUV/"
    },
    "kernelspec": {
      "name": "python3",
      "display_name": "Python 3"
    },
    "language_info": {
      "name": "python"
    }
  },
  "cells": [
    {
      "cell_type": "markdown",
      "source": [
        "Here we use the `librosa library` extract various features of an audio signal, including the tempo, rhythm, and other mechanical components. At the end, we ship it off to a database."
      ],
      "metadata": {
        "id": "WiDj90io0Znh"
      }
    },
    {
      "cell_type": "code",
      "execution_count": 6,
      "metadata": {
        "colab": {
          "base_uri": "https://localhost:8080/"
        },
        "id": "NStxOucXzefF",
        "outputId": "736a4115-0ea2-4b72-9e47-721145184642"
      },
      "outputs": [
        {
          "output_type": "stream",
          "name": "stdout",
          "text": [
            "Tempo of this file is:  92.28515625  bps\n"
          ]
        }
      ],
      "source": [
        "import librosa\n",
        "import warnings\n",
        "\n",
        "# Suppress the warning message\n",
        "warnings.filterwarnings(\"ignore\", message=\"PySoundFile failed. Trying audioread instead.\")\n",
        "\n",
        "# Load the audio file\n",
        "y, sr = librosa.load('/content/drive/MyDrive/Datasets/Music_songs/Oxlade-Ku-Lo-Sa-New-Song.mp3')\n",
        "\n",
        "# Extract the tempo\n",
        "tempo, _ = librosa.beat.beat_track(y=y, sr=sr)\n",
        "print('Tempo of this file is: ', tempo ,' bps')\n"
      ]
    },
    {
      "cell_type": "code",
      "source": [],
      "metadata": {
        "id": "iTzOykaC3IDz"
      },
      "execution_count": null,
      "outputs": []
    }
  ]
}